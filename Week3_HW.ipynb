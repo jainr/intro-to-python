{
  "nbformat": 4,
  "nbformat_minor": 0,
  "metadata": {
    "colab": {
      "name": "Week3-HW.ipynb",
      "provenance": [],
      "authorship_tag": "ABX9TyNi8nQCdSTuZasJsQCLDPe0",
      "include_colab_link": true
    },
    "kernelspec": {
      "name": "python3",
      "display_name": "Python 3"
    }
  },
  "cells": [
    {
      "cell_type": "markdown",
      "metadata": {
        "id": "view-in-github",
        "colab_type": "text"
      },
      "source": [
        "<a href=\"https://colab.research.google.com/github/jainr/intro-to-python/blob/master/Week3_HW.ipynb\" target=\"_parent\"><img src=\"https://colab.research.google.com/assets/colab-badge.svg\" alt=\"Open In Colab\"/></a>"
      ]
    },
    {
      "cell_type": "code",
      "metadata": {
        "id": "53uBs09YkhuB",
        "colab_type": "code",
        "colab": {}
      },
      "source": [
        "# Knowledge Test"
      ],
      "execution_count": 3,
      "outputs": []
    },
    {
      "cell_type": "markdown",
      "metadata": {
        "id": "KMtJG68R1aJk",
        "colab_type": "text"
      },
      "source": [
        "## Knowledge Test"
      ]
    },
    {
      "cell_type": "markdown",
      "metadata": {
        "id": "6K2-rzySj3t0",
        "colab_type": "text"
      },
      "source": [
        "1. True or False - List can only contain elements of one data type, for example, only strings or only numbers.\n",
        "\n",
        "Answer - False\n"
      ]
    },
    {
      "cell_type": "code",
      "metadata": {
        "id": "8ysAVtAdj7ad",
        "colab_type": "code",
        "colab": {
          "base_uri": "https://localhost:8080/",
          "height": 51
        },
        "outputId": "0124d0ef-9a28-456b-cb73-e702eba6a085"
      },
      "source": [
        "list_mixed = [\"Mike\", 1, 2,3]\n",
        "print(list_mixed[0])\n",
        "print(list_mixed[1])\n"
      ],
      "execution_count": 2,
      "outputs": [
        {
          "output_type": "stream",
          "text": [
            "Mike\n",
            "1\n"
          ],
          "name": "stdout"
        }
      ]
    },
    {
      "cell_type": "markdown",
      "metadata": {
        "id": "9Fu-oQYEkcQP",
        "colab_type": "text"
      },
      "source": [
        "2. For the list1 = [\"Mike\", \"\", \"Emma\", \"Kelly\", \"\", \"Brad\"] remove spaces from the list \n"
      ]
    },
    {
      "cell_type": "code",
      "metadata": {
        "id": "eWhLn_14kgHt",
        "colab_type": "code",
        "colab": {
          "base_uri": "https://localhost:8080/",
          "height": 34
        },
        "outputId": "0f0ffb74-cbc9-462e-e84f-ef66430b0551"
      },
      "source": [
        "list1 = [\"Mike\", \"\", \"Emma\", \"Kelly\", \"\", \"Brad\"]\n",
        "for i in list1:\n",
        "  if(i == \"\"):\n",
        "    list1.remove(i)\n",
        "print(list1)\n",
        "  "
      ],
      "execution_count": 5,
      "outputs": [
        {
          "output_type": "stream",
          "text": [
            "['Mike', 'Emma', 'Kelly', 'Brad']\n"
          ],
          "name": "stdout"
        }
      ]
    },
    {
      "cell_type": "markdown",
      "metadata": {
        "id": "ypBdEKRum0Ty",
        "colab_type": "text"
      },
      "source": [
        "Given two lists\n",
        "list1 = [\"M\", \"na\", \"i\", \"Ke\"] \n",
        "list2 = [\"y\", \"me\", \"s\", \"lly\"]\n",
        "\n",
        "Concatenate the lists so the output is ['My', 'name', 'is', 'Kelly']"
      ]
    },
    {
      "cell_type": "code",
      "metadata": {
        "id": "-tZ5hZNAmsPt",
        "colab_type": "code",
        "colab": {
          "base_uri": "https://localhost:8080/",
          "height": 34
        },
        "outputId": "022cf53f-b7b0-4af3-97ec-eb305d4cf21d"
      },
      "source": [
        "list1 = [\"M\", \"na\", \"i\", \"Ke\"] \n",
        "list2 = [\"y\", \"me\", \"s\", \"lly\"]\n",
        "list3=[]\n",
        "list1_len = len(list1)\n",
        "list2_len = len(list2)\n",
        "i=0\n",
        "\n",
        "if list1_len == list2_len:\n",
        "  while i < list1_len:\n",
        "    list3.append(list1[i] + list2[i])\n",
        "    i+=1\n",
        "else:\n",
        "    print(\"List are not same size\")\n",
        "\n",
        "print(list3)\n"
      ],
      "execution_count": 19,
      "outputs": [
        {
          "output_type": "stream",
          "text": [
            "['My', 'name', 'is', 'Kelly']\n"
          ],
          "name": "stdout"
        }
      ]
    },
    {
      "cell_type": "markdown",
      "metadata": {
        "id": "iYwrHnXOuUrc",
        "colab_type": "text"
      },
      "source": [
        "4. Given a Python dictionary, Change Dillon's salary to 8500\n",
        "sampleDict = {\n",
        "     'emp1': {'name': 'Bob', 'salary': 7500},\n",
        "     'emp2': {'name': 'Alice', 'salary': 8000},\n",
        "     'emp3': {'name': 'Dillon', 'salary': 6500}\n",
        "}"
      ]
    },
    {
      "cell_type": "code",
      "metadata": {
        "id": "JKA2DpMysEvn",
        "colab_type": "code",
        "colab": {
          "base_uri": "https://localhost:8080/",
          "height": 34
        },
        "outputId": "9352f397-3130-4761-e3c1-dd7e12014434"
      },
      "source": [
        "sampleDict = {\n",
        "     'emp1': {'name': 'Bob', 'salary': 7500},\n",
        "     'emp2': {'name': 'Alice', 'salary': 8000},\n",
        "     'emp3': {'name': 'Dillon', 'salary': 6500}\n",
        "}\n",
        "\n",
        "for key in sampleDict: \n",
        "  if(sampleDict[key]['name'] == \"Dillon\"):\n",
        "    sampleDict[key]['salary'] = 8500\n",
        "\n",
        "print(sampleDict)"
      ],
      "execution_count": 32,
      "outputs": [
        {
          "output_type": "stream",
          "text": [
            "{'emp1': {'name': 'Bob', 'salary': 7500}, 'emp2': {'name': 'Alice', 'salary': 8000}, 'emp3': {'name': 'Dillon', 'salary': 8500}}\n"
          ],
          "name": "stdout"
        }
      ]
    },
    {
      "cell_type": "markdown",
      "metadata": {
        "id": "YhPcmQKDzVPQ",
        "colab_type": "text"
      },
      "source": [
        "5. Which of the following is true for sets in python (chose all that applies)\n",
        "- a. The elements is the set not be duplicate\n",
        "- b. You can access the elemnts in a set using its index.\n",
        "- c. The order of elements in set are unordered. \n",
        "- d. You cannot add elemnts to the set once created.\n",
        "\n",
        "Answer - a,c"
      ]
    },
    {
      "cell_type": "markdown",
      "metadata": {
        "id": "5-BAG8CRz33q",
        "colab_type": "text"
      },
      "source": [
        "##Coding Exercise\n",
        "\n",
        "1. Decode the code : You are given this dict word_frequency = {\"a\": 3, \"c\": 4, \"e\": 2, \"k\":1, \"o\": 5}\n",
        "create the code word from it. Output should be aaacccceekooooo\n",
        "\n"
      ]
    },
    {
      "cell_type": "code",
      "metadata": {
        "id": "mXsEZriwz21x",
        "colab_type": "code",
        "colab": {
          "base_uri": "https://localhost:8080/",
          "height": 34
        },
        "outputId": "4fbd1285-2039-4926-a88f-5b6317eee5ed"
      },
      "source": [
        "word_frequency = {\"a\": 3, \"c\": 4, \"e\": 2, \"k\":1, \"o\": 5}\n",
        "str = \"\"\n",
        "for key in word_frequency:\n",
        "  str+=key*(word_frequency[key])\n",
        "\n",
        "print(str)"
      ],
      "execution_count": 40,
      "outputs": [
        {
          "output_type": "stream",
          "text": [
            "aaacccceekooooo\n"
          ],
          "name": "stdout"
        }
      ]
    },
    {
      "cell_type": "markdown",
      "metadata": {
        "id": "_o2JiuzI1UEM",
        "colab_type": "text"
      },
      "source": [
        "2. Write a function which takes a dollar amount and breaks it down into how many quaters (25 cents), dimes (10 cents), nickels (5 cents) and pennies (1 cent) would it contain.\n",
        "\n",
        "Example:\n",
        "2 dollar should return 8 quarters\n",
        "2.41 dollar should return 9 quarters , 1 dime, 1 nickel and 1 penny\n",
        "\n"
      ]
    },
    {
      "cell_type": "code",
      "metadata": {
        "id": "LBqfeUwKu9il",
        "colab_type": "code",
        "colab": {
          "base_uri": "https://localhost:8080/",
          "height": 34
        },
        "outputId": "6425d7d7-f7d6-482a-c49f-1ab1adfac1a0"
      },
      "source": [
        "def change_amount(amount):\n",
        "  dollar_amount = int(amount * 100) #changing to cent amount.\n",
        "  if(dollar_amount>=0):\n",
        "    number_of_quarters = dollar_amount//25\n",
        "    dollar_amount = dollar_amount%25 \n",
        "    number_of_dime = dollar_amount//10\n",
        "    dollar_amount = dollar_amount%10 \n",
        "    number_of_nickel = dollar_amount//5\n",
        "    dollar_amount = dollar_amount%5\n",
        "    number_of_penny = dollar_amount//1\n",
        "    print(\"{} quaters, {} dime, {} nickel and {} penny\".format(number_of_quarters,number_of_dime,number_of_nickel,number_of_penny))\n",
        "  else:\n",
        "    print(\"Amount invalid\")\n",
        "\n",
        "\n",
        "change_amount(2.46)"
      ],
      "execution_count": 63,
      "outputs": [
        {
          "output_type": "stream",
          "text": [
            "9 quaters, 2 dime, 0 nickel and 1 penny\n"
          ],
          "name": "stdout"
        }
      ]
    },
    {
      "cell_type": "markdown",
      "metadata": {
        "id": "GI7tCk319sj0",
        "colab_type": "text"
      },
      "source": [
        "Write code to roll two dice. Print Win if the value of the two dice is the same, otherwise keep rolling the dice. "
      ]
    },
    {
      "cell_type": "code",
      "metadata": {
        "id": "cnO686Uc4w_M",
        "colab_type": "code",
        "colab": {
          "base_uri": "https://localhost:8080/",
          "height": 102
        },
        "outputId": "6477b0f1-f5d7-4c6f-d5a9-2de5dc3da2a0"
      },
      "source": [
        "import random\n",
        "\n",
        "while True:\n",
        "  dice1 = random.randint(1,6)\n",
        "  dice2 = random.randint(1,6)\n",
        "  print(\"Dice1 :: {}\".format(dice1))\n",
        "  print(\"Dice2 :: {}\".format(dice2))\n",
        "  if(dice1 == dice2):\n",
        "    print(\"Win\")\n",
        "    break\n"
      ],
      "execution_count": 85,
      "outputs": [
        {
          "output_type": "stream",
          "text": [
            "Dice1 :: 5\n",
            "Dice2 :: 6\n",
            "Dice1 :: 1\n",
            "Dice2 :: 1\n",
            "Win\n"
          ],
          "name": "stdout"
        }
      ]
    },
    {
      "cell_type": "code",
      "metadata": {
        "id": "uM_bh0gz-wrs",
        "colab_type": "code",
        "colab": {}
      },
      "source": [
        ""
      ],
      "execution_count": null,
      "outputs": []
    }
  ]
}