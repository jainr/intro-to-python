{
  "nbformat": 4,
  "nbformat_minor": 0,
  "metadata": {
    "colab": {
      "name": "Week4-HW.ipynb",
      "provenance": [],
      "collapsed_sections": [],
      "authorship_tag": "ABX9TyN0W0hlKVO1exP/MlD4R8Ps",
      "include_colab_link": true
    },
    "kernelspec": {
      "name": "python3",
      "display_name": "Python 3"
    }
  },
  "cells": [
    {
      "cell_type": "markdown",
      "metadata": {
        "id": "view-in-github",
        "colab_type": "text"
      },
      "source": [
        "<a href=\"https://colab.research.google.com/github/jainr/intro-to-python/blob/master/Week4_HW.ipynb\" target=\"_parent\"><img src=\"https://colab.research.google.com/assets/colab-badge.svg\" alt=\"Open In Colab\"/></a>"
      ]
    },
    {
      "cell_type": "code",
      "metadata": {
        "id": "-zRkyI_yGGku",
        "colab_type": "code",
        "colab": {}
      },
      "source": [
        ""
      ],
      "execution_count": null,
      "outputs": []
    },
    {
      "cell_type": "markdown",
      "metadata": {
        "id": "SzvK94W3GJPx",
        "colab_type": "text"
      },
      "source": [
        "#1. Your program randomly select a number between 1 -1000.\n",
        "\n",
        "Then take an input from the user to guess the number and give some clues.\n",
        "- Print Higher if the number guessed is higher\n",
        "- Lower otherwise\n",
        "Give the user 20 chances to guess the number.\n",
        "\n"
      ]
    },
    {
      "cell_type": "code",
      "metadata": {
        "id": "wkbvRLz7GK8h",
        "colab_type": "code",
        "colab": {
          "base_uri": "https://localhost:8080/",
          "height": 52
        },
        "outputId": "024e0775-9d57-4a07-d1b7-0fb2a082a558"
      },
      "source": [
        "input(\"Enter number::\")"
      ],
      "execution_count": null,
      "outputs": [
        {
          "output_type": "stream",
          "text": [
            "Enter number::4\n"
          ],
          "name": "stdout"
        },
        {
          "output_type": "execute_result",
          "data": {
            "application/vnd.google.colaboratory.intrinsic": {
              "type": "string"
            },
            "text/plain": [
              "'4'"
            ]
          },
          "metadata": {
            "tags": []
          },
          "execution_count": 1
        }
      ]
    },
    {
      "cell_type": "code",
      "metadata": {
        "id": "EappsTzNGUsh",
        "colab_type": "code",
        "colab": {
          "base_uri": "https://localhost:8080/",
          "height": 170
        },
        "outputId": "dab41a35-44fc-493c-88cb-67cd83e61f78"
      },
      "source": [
        "import random\n",
        "\n",
        "def guess():\n",
        "  selected_num = random.randint(1,1000)\n",
        "  print(selected_num)\n",
        "  i=20\n",
        "  while i >=0:\n",
        "    user_input = int(input(\"Enter your number :: \"))\n",
        "    if user_input > selected_num:\n",
        "      print(\"Lower\")\n",
        "    elif user_input < selected_num:\n",
        "      print(\"Higher\")\n",
        "    elif user_input == selected_num:\n",
        "      print(\"Number matched\")\n",
        "      break\n",
        "    i=i-1\n",
        "\n",
        "guess()\n"
      ],
      "execution_count": 1,
      "outputs": [
        {
          "output_type": "stream",
          "text": [
            "816\n",
            "Enter your number :: 80\n",
            "Higher\n",
            "Enter your number :: 800\n",
            "Higher\n",
            "Enter your number :: 820\n",
            "Lower\n",
            "Enter your number :: 816\n",
            "Number matched\n"
          ],
          "name": "stdout"
        }
      ]
    },
    {
      "cell_type": "code",
      "metadata": {
        "id": "PS3cB1UpI0rB",
        "colab_type": "code",
        "colab": {}
      },
      "source": [
        ""
      ],
      "execution_count": null,
      "outputs": []
    },
    {
      "cell_type": "markdown",
      "metadata": {
        "id": "OF0dbZ0yMRzv",
        "colab_type": "text"
      },
      "source": [
        "#2. My bluetooth keyboard has a lag and sometimes repeats the last word i typed. Write a function to only remove the subsequent repeated word from a string. For Example.\n",
        "\n",
        "For a string \"Hey this is is a fun fun assignment is it not not \"\n",
        "\n",
        "Output should be \"Hey this is a fun assigment is it not \"\n",
        "\n",
        "Note: How it keeps the 'is' later in the sentence in the example.\n",
        "\n"
      ]
    },
    {
      "cell_type": "code",
      "metadata": {
        "id": "Xhb27yAfMQWS",
        "colab_type": "code",
        "colab": {
          "base_uri": "https://localhost:8080/",
          "height": 35
        },
        "outputId": "cdb4d46a-1aaf-443e-b316-23924bc329c9"
      },
      "source": [
        "def remove_repeated(input_str):\n",
        "  str_list = input_str.split()\n",
        "  \n",
        "  for index,val in enumerate(str_list, 1):\n",
        "    if str_list[index] == str_list[index-1]:\n",
        "      str_list.remove(val)\n",
        "  return \" \".join(str_list)\n",
        "\n",
        "\n",
        "remove_repeated(\"Hey this is is a fun fun assignment is it not not \")"
      ],
      "execution_count": 29,
      "outputs": [
        {
          "output_type": "execute_result",
          "data": {
            "application/vnd.google.colaboratory.intrinsic": {
              "type": "string"
            },
            "text/plain": [
              "'Hey this is a fun assignment is it not'"
            ]
          },
          "metadata": {
            "tags": []
          },
          "execution_count": 29
        }
      ]
    },
    {
      "cell_type": "markdown",
      "metadata": {
        "id": "gAAfmunYwgyn",
        "colab_type": "text"
      },
      "source": [
        "#3. Calculate the word score\n",
        "\n",
        "Write a function which takes a word of any length upto 10 and calculates its score adding the characters scores based on the dictionary given to you \n",
        "\n",
        "score = {\"a\": 1 , \"b\": 3 , \"c\": 3 , \"d\": 2 ,\n",
        "         \"e\": 1 , \"f\": 4 , \"g\": 2 , \"h\": 4 ,\n",
        "         \"i\": 1 , \"j\": 8 , \"k\": 5 , \"l\": 1 ,\n",
        "         \"m\": 3 , \"n\": 1 , \"o\": 1 , \"p\": 3 ,\n",
        "         \"q\": 10, \"r\": 1 , \"s\": 1 , \"t\": 1 ,\n",
        "         \"u\": 1 , \"v\": 4 , \"w\": 4 , \"x\": 8 ,\n",
        "         \"y\": 4 , \"z\": 10}\n",
        "\n",
        "Example: The score for \"buzz\" is 24 (3+1+10+10)\n"
      ]
    },
    {
      "cell_type": "code",
      "metadata": {
        "id": "hfvUOFxBwxbl",
        "colab_type": "code",
        "colab": {
          "base_uri": "https://localhost:8080/",
          "height": 51
        },
        "outputId": "db766f80-f857-42a2-81e5-aca7c9aa7142"
      },
      "source": [
        "score = {\"a\": 1 , \"b\": 3 , \"c\": 3 , \"d\": 2 , \"e\": 1 , \"f\": 4 , \"g\": 2 , \"h\": 4 , \"i\": 1 , \"j\": 8 , \"k\": 5 , \"l\": 1 ,\n",
        "         \"m\": 3 , \"n\": 1 , \"o\": 1 , \"p\": 3 , \"q\": 10, \"r\": 1 , \"s\": 1 , \"t\": 1 , \"u\": 1 , \"v\": 4 , \"w\": 4 , \"x\": 8 ,\n",
        "         \"y\": 4 , \"z\": 10}\n",
        "\n",
        "def calculate_word_score(word):\n",
        "  cal_score = 0\n",
        "  letters = list(word)\n",
        "  print(letters)\n",
        "  # print(score.keys)\n",
        "  for l in letters:\n",
        "    if l in score:\n",
        "      cal_score+=score[l]\n",
        "  return cal_score\n",
        "\n",
        "calculate_word_score(\"buzz\")\n"
      ],
      "execution_count": 9,
      "outputs": [
        {
          "output_type": "stream",
          "text": [
            "['b', 'u', 'z', 'z']\n"
          ],
          "name": "stdout"
        },
        {
          "output_type": "execute_result",
          "data": {
            "text/plain": [
              "24"
            ]
          },
          "metadata": {
            "tags": []
          },
          "execution_count": 9
        }
      ]
    },
    {
      "cell_type": "markdown",
      "metadata": {
        "id": "cwprRk0J1CGS",
        "colab_type": "text"
      },
      "source": [
        "4. Word Cross.\n",
        "\n",
        "Write a function that takes two words and prints how many places do the words cross each other like in a crossword\n",
        "\n",
        "```\n",
        "\n",
        "For ex:\n",
        "\n",
        "word 1 : Homework\n",
        "word 2 : Read\n",
        "\n",
        "\n",
        "Words cross at 2 places  - R and e like this \n",
        "\n",
        "Homework\n",
        "      e\n",
        "      a\n",
        "      d\n",
        "   r\n",
        "Homework\n",
        "   a\n",
        "   d\n",
        "```\n"
      ]
    },
    {
      "cell_type": "code",
      "metadata": {
        "id": "P6yPRBeQzhO_",
        "colab_type": "code",
        "colab": {
          "base_uri": "https://localhost:8080/",
          "height": 34
        },
        "outputId": "4118d871-e266-4254-d024-e29e4a9144ce"
      },
      "source": [
        "# Need to find # of common elemnents in the two strings\n",
        "#Saw your solution, shoud have used set here. Copying your solution just for reference\n",
        "# Simpler version \n",
        "# def wordscross(word1, word2):\n",
        "#     count = 0 # to count the common charac, starting with 0\n",
        "#     for c in word1: # for each character in word 1\n",
        "#         if c in set(word2): # if char is in a set of characters in word2, set so we remove duplicates counts.\n",
        "#             count+=1 # increment the count\n",
        "\n",
        "#     return count\n",
        "\n",
        "# This wont work for duplicate.\n",
        "def crossword_intersection(str1, str2):\n",
        "  count =0\n",
        "  str1_list = list(str1.lower())\n",
        "  str2_list = list(str2.lower())\n",
        "  for s1 in str1_list:\n",
        "    if s1 in str2_list:\n",
        "      count+=1\n",
        "  return count\n",
        "\n",
        "crossword_intersection(\"abca\", \"abca\")"
      ],
      "execution_count": 30,
      "outputs": [
        {
          "output_type": "execute_result",
          "data": {
            "text/plain": [
              "4"
            ]
          },
          "metadata": {
            "tags": []
          },
          "execution_count": 30
        }
      ]
    },
    {
      "cell_type": "markdown",
      "metadata": {
        "id": "mO8wl1fo3P94",
        "colab_type": "text"
      },
      "source": [
        "#5. Cows and Bulls\n",
        "\n",
        "Write a function that takes two words of same length and no repeated characters and prints how many characters in the two words are in the same place (Bulls) and how many characters are common but not in the same place.\n",
        "\n",
        "For ex: \n",
        "\n",
        "word 1 = bird\n",
        "word 2 = ride\n",
        "\n",
        "Output should be 2 cow (for r and d) and 1 bull (for i)"
      ]
    },
    {
      "cell_type": "code",
      "metadata": {
        "id": "of5UyhH41BtX",
        "colab_type": "code",
        "colab": {
          "base_uri": "https://localhost:8080/",
          "height": 34
        },
        "outputId": "e2f0cac1-fbbc-48a0-da24-e11630a4b9f5"
      },
      "source": [
        "def bulls_and_cows(str1, str2):\n",
        "  bull =0\n",
        "  cow=0\n",
        "  i=0\n",
        "  str1_list = list(str1.lower())\n",
        "  str2_list = list(str2.lower())\n",
        "  \n",
        "  for i in range(len(str1)):\n",
        "    if str1_list[i] == str2_list[i]:\n",
        "      bull+=1\n",
        "    elif str1_list[i] in str2_list and (str1_list[i] != str2_list[i]):\n",
        "      cow+=1\n",
        "  return {\"cow\" : cow, \"bull\": bull}\n",
        "\n",
        "bulls_and_cows(\"1807\", \"7810\")"
      ],
      "execution_count": 24,
      "outputs": [
        {
          "output_type": "execute_result",
          "data": {
            "text/plain": [
              "{'bull': 1, 'cow': 3}"
            ]
          },
          "metadata": {
            "tags": []
          },
          "execution_count": 24
        }
      ]
    },
    {
      "cell_type": "code",
      "metadata": {
        "id": "YrGUyJEa4gnJ",
        "colab_type": "code",
        "colab": {}
      },
      "source": [
        ""
      ],
      "execution_count": null,
      "outputs": []
    }
  ]
}