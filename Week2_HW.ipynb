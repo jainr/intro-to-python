{
  "nbformat": 4,
  "nbformat_minor": 0,
  "metadata": {
    "colab": {
      "name": "Week2-HW.ipynb",
      "provenance": [],
      "authorship_tag": "ABX9TyM6/GjDdgwgFc3B1/M0VC7N",
      "include_colab_link": true
    },
    "kernelspec": {
      "name": "python3",
      "display_name": "Python 3"
    }
  },
  "cells": [
    {
      "cell_type": "markdown",
      "metadata": {
        "id": "view-in-github",
        "colab_type": "text"
      },
      "source": [
        "<a href=\"https://colab.research.google.com/github/jainr/intro-to-python/blob/master/Week2_HW.ipynb\" target=\"_parent\"><img src=\"https://colab.research.google.com/assets/colab-badge.svg\" alt=\"Open In Colab\"/></a>"
      ]
    },
    {
      "cell_type": "markdown",
      "metadata": {
        "id": "Li-QEIKkJ4h5",
        "colab_type": "text"
      },
      "source": [
        "1. For a string in variable s which of the following will will give the same result as s[0:-1]\n",
        "- s[-1] \n",
        "- s[:] \n",
        "- s[:len(s)-1] \n",
        "- s[0:len(s)]\n",
        "\n",
        "__Answer - c__"
      ]
    },
    {
      "cell_type": "code",
      "metadata": {
        "id": "Tpu-u1ySJ707",
        "colab_type": "code",
        "outputId": "b7898acf-38da-43fa-83e6-5f8da693b225",
        "colab": {
          "base_uri": "https://localhost:8080/",
          "height": 34
        }
      },
      "source": [
        "#Answer c\n",
        "str = \"Hello Boston\"\n",
        "str[:len(str)-1] \n"
      ],
      "execution_count": 0,
      "outputs": [
        {
          "output_type": "execute_result",
          "data": {
            "text/plain": [
              "'Hello Bosto'"
            ]
          },
          "metadata": {
            "tags": []
          },
          "execution_count": 9
        }
      ]
    },
    {
      "cell_type": "markdown",
      "metadata": {
        "id": "5KjUn7UyK7s5",
        "colab_type": "text"
      },
      "source": [
        "2. 2. True or False - This will give an error string_class = 'This is Aman's Class'\n",
        "\n",
        "__Answer - Need double quotes to escape the \" ' \", True__\n"
      ]
    },
    {
      "cell_type": "code",
      "metadata": {
        "id": "0AWvca9XKN-A",
        "colab_type": "code",
        "outputId": "5fd257de-5c76-4920-ae03-675da72836fe",
        "colab": {
          "base_uri": "https://localhost:8080/",
          "height": 130
        }
      },
      "source": [
        "str = 'This is Aman's Class'"
      ],
      "execution_count": 0,
      "outputs": [
        {
          "output_type": "error",
          "ename": "SyntaxError",
          "evalue": "ignored",
          "traceback": [
            "\u001b[0;36m  File \u001b[0;32m\"<ipython-input-10-f69d0000b8d3>\"\u001b[0;36m, line \u001b[0;32m1\u001b[0m\n\u001b[0;31m    str = 'This is Aman's Class'\u001b[0m\n\u001b[0m                        ^\u001b[0m\n\u001b[0;31mSyntaxError\u001b[0m\u001b[0;31m:\u001b[0m invalid syntax\n"
          ]
        }
      ]
    },
    {
      "cell_type": "markdown",
      "metadata": {
        "id": "JYG0SstiLndv",
        "colab_type": "text"
      },
      "source": [
        "3. Which method will convert convert the String \n",
        "\"welcome to the beautiful world of python\" to \"Welcome To The Beautiful World of Python\"\n",
        "- capitalize()\n",
        "- title()\n",
        "\n",
        "__Answer - title()__"
      ]
    },
    {
      "cell_type": "code",
      "metadata": {
        "id": "0gxVBnMHLX3e",
        "colab_type": "code",
        "outputId": "8fdd19b8-226d-4da1-866d-864cc9407b63",
        "colab": {
          "base_uri": "https://localhost:8080/",
          "height": 34
        }
      },
      "source": [
        "str = \"Welcome to the beatiful world of python\"\n",
        "str.title()"
      ],
      "execution_count": 0,
      "outputs": [
        {
          "output_type": "execute_result",
          "data": {
            "text/plain": [
              "'Welcome To Tbe Beatiful World Of Python'"
            ]
          },
          "metadata": {
            "tags": []
          },
          "execution_count": 12
        }
      ]
    },
    {
      "cell_type": "markdown",
      "metadata": {
        "id": "Ll28_IuOMdBp",
        "colab_type": "text"
      },
      "source": [
        "4. What is the output of the following code?\n",
        "var= \"James Bond\"\n",
        "print(var[2::-1])\n",
        "- Jam\n",
        "- dno\n",
        "- maJ\n",
        "- dnoB semaJ\n",
        "\n",
        "__Answer - maJ, the third parameter in the slice function is step so in this case the index starts from 2 and goes till 0 since step is -1__"
      ]
    },
    {
      "cell_type": "code",
      "metadata": {
        "id": "y1PMV9bhOgbf",
        "colab_type": "code",
        "outputId": "25929c5e-4c04-4b71-d293-6b7ad87c7903",
        "colab": {
          "base_uri": "https://localhost:8080/",
          "height": 34
        }
      },
      "source": [
        "var= \"James Bond\" \n",
        "print(var[2::-1])"
      ],
      "execution_count": 0,
      "outputs": [
        {
          "output_type": "stream",
          "text": [
            "maJ\n"
          ],
          "name": "stdout"
        }
      ]
    },
    {
      "cell_type": "markdown",
      "metadata": {
        "id": "4ZmKIJEQOrMS",
        "colab_type": "text"
      },
      "source": [
        "5. What is the output of the following code?\n",
        "\n",
        "var = \"James\" * 2  * 3\n",
        "print(var)\n",
        "\n",
        "- JamesJamesJamesJamesJamesJames\n",
        "- JamesJamesJamesJamesJames\n",
        "- Error: invalid syntax\n",
        "\n",
        "__Answer = James will be printed 6 times__\n",
        "Thought it would throw syntax error, so addition and other math operator would results in type error but multiply works, sweet."
      ]
    },
    {
      "cell_type": "code",
      "metadata": {
        "id": "ItWmilYbOptT",
        "colab_type": "code",
        "outputId": "e4a40fe1-9e59-48a1-8c0d-e5dc2d3e8d27",
        "colab": {
          "base_uri": "https://localhost:8080/",
          "height": 34
        }
      },
      "source": [
        "#var = \"James\" + 2  + 3\n",
        "var = \"James\" * 2  * 3\n",
        "var\n"
      ],
      "execution_count": 0,
      "outputs": [
        {
          "output_type": "execute_result",
          "data": {
            "text/plain": [
              "'JamesJamesJamesJamesJamesJames'"
            ]
          },
          "metadata": {
            "tags": []
          },
          "execution_count": 17
        }
      ]
    },
    {
      "cell_type": "markdown",
      "metadata": {
        "id": "9IyS7B9kPxTw",
        "colab_type": "text"
      },
      "source": [
        "6. True / False - The ‘in’ operator is used to check if a value exists within a string or list. \n",
        "\n",
        "__Answer = True__"
      ]
    },
    {
      "cell_type": "code",
      "metadata": {
        "id": "1whPJPeOMKn9",
        "colab_type": "code",
        "outputId": "15cf0aea-b863-4dc0-941a-c99ef6e99688",
        "colab": {
          "base_uri": "https://localhost:8080/",
          "height": 34
        }
      },
      "source": [
        "str = \"Hello, this is bob\"\n",
        "# \"bob\".in(str) #wrong syntax\n",
        "\"bob\" in str"
      ],
      "execution_count": 0,
      "outputs": [
        {
          "output_type": "execute_result",
          "data": {
            "text/plain": [
              "True"
            ]
          },
          "metadata": {
            "tags": []
          },
          "execution_count": 19
        }
      ]
    },
    {
      "cell_type": "markdown",
      "metadata": {
        "id": "02m26jYMQZWs",
        "colab_type": "text"
      },
      "source": [
        "7. Define a string str = \" A block of cheese i do not need \". Write code to sort the string alphabetically.\n"
      ]
    },
    {
      "cell_type": "code",
      "metadata": {
        "id": "3TvdCHIXQCH3",
        "colab_type": "code",
        "outputId": "854b0538-7b5a-4c50-a06b-c67822153e01",
        "colab": {
          "base_uri": "https://localhost:8080/",
          "height": 34
        }
      },
      "source": [
        "str = \" A block of cheese i do not need \"\n",
        "# str.strip()\n",
        "s = str.split()\n",
        "s.sort()\n",
        "\n",
        "\" \".join(s).strip()"
      ],
      "execution_count": 0,
      "outputs": [
        {
          "output_type": "execute_result",
          "data": {
            "text/plain": [
              "'A block cheese do i need not of'"
            ]
          },
          "metadata": {
            "tags": []
          },
          "execution_count": 15
        }
      ]
    },
    {
      "cell_type": "code",
      "metadata": {
        "id": "eY1Q2hRwlXKo",
        "colab_type": "code",
        "colab": {}
      },
      "source": [
        "Write the code to count the number of occurences of a string in another string. Use the example from the class. \n",
        "str_to_be_found = \"ain\" str_primary = \"The rain in spain only happens in plains\" \n",
        "[Hint: https://docs.python.org/3/library/stdtypes.html#string-methods]"
      ],
      "execution_count": 0,
      "outputs": []
    },
    {
      "cell_type": "code",
      "metadata": {
        "id": "O_5JJP5eRBUW",
        "colab_type": "code",
        "outputId": "d72a116b-69d5-4944-e547-0547c70b504c",
        "colab": {
          "base_uri": "https://localhost:8080/",
          "height": 34
        }
      },
      "source": [
        "str_primary = \"The rain in spain only happens in plains\" \n",
        "str_to_be_found = \"ain\"\n",
        "\n",
        "\n",
        "str_primary.count(str_to_be_found)"
      ],
      "execution_count": 0,
      "outputs": [
        {
          "output_type": "execute_result",
          "data": {
            "text/plain": [
              "3"
            ]
          },
          "metadata": {
            "tags": []
          },
          "execution_count": 3
        }
      ]
    },
    {
      "cell_type": "markdown",
      "metadata": {
        "id": "SbTAjBMEmuVF",
        "colab_type": "text"
      },
      "source": [
        "##Coding Project\n",
        "1.  Write the code to pick a random WORD from the string \"This is a random word string\"\n"
      ]
    },
    {
      "cell_type": "code",
      "metadata": {
        "id": "0QrVlhnmnQrM",
        "colab_type": "code",
        "outputId": "d2527d87-3705-45f9-829a-1653e60b69d4",
        "colab": {
          "base_uri": "https://localhost:8080/",
          "height": 34
        }
      },
      "source": [
        "str = \"This is a random word string\"\n",
        "arr = str.split()\n",
        "print(arr[random.randint(0, len(arr) -1)])\n"
      ],
      "execution_count": 0,
      "outputs": [
        {
          "output_type": "stream",
          "text": [
            "string\n"
          ],
          "name": "stdout"
        }
      ]
    },
    {
      "cell_type": "markdown",
      "metadata": {
        "id": "eR4LVKT36w1z",
        "colab_type": "text"
      },
      "source": [
        "2. Given the string as a input \"English = 78, Science = 83, Math = 68, History = 65”.\n",
        "Write code to calculatge average marks "
      ]
    },
    {
      "cell_type": "code",
      "metadata": {
        "id": "S8ukLU5v5MNA",
        "colab_type": "code",
        "outputId": "54644344-25ec-401a-8ffc-6280650f89f7",
        "colab": {
          "base_uri": "https://localhost:8080/",
          "height": 136
        }
      },
      "source": [
        "#Not sure if I need this complex of a solution to use regex, but couldn't figure\n",
        "# out how to remove the comma at end of number\n",
        "\n",
        "\n",
        "import re\n",
        "marks_str = \"English = 78, Science = 83, Math = 68, History = 65\"\n",
        "counter = 0\n",
        "sum =0\n",
        "marks_list = re.split(r'(=|,)\\s*', marks_str) \n",
        "# marks_list = marks_str.split()\n",
        "print(marks_list)\n",
        "\n",
        "\n",
        "for i in marks_list:\n",
        "  if(i.isdigit()):\n",
        "    counter = counter +1\n",
        "    sum= sum + int(i)\n",
        "    print(i)\n",
        "\n",
        "print(sum)\n",
        "avg = sum/counter\n",
        "print(avg)"
      ],
      "execution_count": 37,
      "outputs": [
        {
          "output_type": "stream",
          "text": [
            "['English ', '=', '78', ',', 'Science ', '=', '83', ',', 'Math ', '=', '68', ',', 'History ', '=', '65']\n",
            "78\n",
            "83\n",
            "68\n",
            "65\n",
            "294\n",
            "73.5\n"
          ],
          "name": "stdout"
        }
      ]
    },
    {
      "cell_type": "markdown",
      "metadata": {
        "id": "MYG40uOwZL-2",
        "colab_type": "text"
      },
      "source": [
        "3. Build a calendar function which take a date in mm-dd-yyy and prints its english version. For example 05-22-2020 will be printed as 22nd of May 2020\n"
      ]
    },
    {
      "cell_type": "code",
      "metadata": {
        "id": "P9RijNHzAroR",
        "colab_type": "code",
        "colab": {
          "base_uri": "https://localhost:8080/",
          "height": 357
        },
        "outputId": "832fc0ef-c57d-4eaa-eb63-296739258b70"
      },
      "source": [
        "def print_date(num_date):\n",
        "  date_list = num_date.split(\"-\")\n",
        "  print(date_list)\n",
        "  i = int(date_list[1])\n",
        "  year = date_list[2]\n",
        "  cal_list = [\"January\", \"Februrary\", \"March\", \"April\", \"May\", \"June\", \"July\", \"August\", \"September\", \"October\", \"November\", \"December\"]\n",
        "  month = cal_list[int(date_list[0])-1]\n",
        "\n",
        "  if(i%10 == 1 and i!=11 ):\n",
        "    suffix = \"st\"\n",
        "  elif(i%10 == 2 and i!=12 ):\n",
        "    suffix = \"nd\"\n",
        "  elif(i%10 == 3 and i!=13 ):\n",
        "    suffix = \"rd\" \n",
        "  else:\n",
        "    suffix = \"th\"\n",
        "  print(\"{}{} of {} {}\".format(i,suffix, month, year))\n",
        "\n",
        "\n",
        "print_date(\"04-01-2020\")\n",
        "print_date(\"04-11-2020\")\n",
        "print_date(\"04-21-2020\")\n",
        "print_date(\"04-02-2020\")\n",
        "print_date(\"04-03-2020\")\n",
        "print_date(\"04-04-2020\")\n",
        "print_date(\"04-21-2020\")\n",
        "print_date(\"04-22-2020\")\n",
        "print_date(\"04-23-2020\")\n",
        "print_date(\"04-24-2020\")"
      ],
      "execution_count": 51,
      "outputs": [
        {
          "output_type": "stream",
          "text": [
            "['04', '01', '2020']\n",
            "1st of April 2020\n",
            "['04', '11', '2020']\n",
            "11th of April 2020\n",
            "['04', '21', '2020']\n",
            "21st of April 2020\n",
            "['04', '02', '2020']\n",
            "2nd of April 2020\n",
            "['04', '03', '2020']\n",
            "3rd of April 2020\n",
            "['04', '04', '2020']\n",
            "4th of April 2020\n",
            "['04', '21', '2020']\n",
            "21st of April 2020\n",
            "['04', '22', '2020']\n",
            "22nd of April 2020\n",
            "['04', '23', '2020']\n",
            "23rd of April 2020\n",
            "['04', '24', '2020']\n",
            "24th of April 2020\n"
          ],
          "name": "stdout"
        }
      ]
    },
    {
      "cell_type": "code",
      "metadata": {
        "id": "phTeRkv-eEix",
        "colab_type": "code",
        "colab": {
          "base_uri": "https://localhost:8080/",
          "height": 34
        },
        "outputId": "06762ff2-211b-4194-ada0-454bb5343f25"
      },
      "source": [
        "1%10"
      ],
      "execution_count": 40,
      "outputs": [
        {
          "output_type": "execute_result",
          "data": {
            "text/plain": [
              "1"
            ]
          },
          "metadata": {
            "tags": []
          },
          "execution_count": 40
        }
      ]
    },
    {
      "cell_type": "code",
      "metadata": {
        "id": "UA7L19gXidow",
        "colab_type": "code",
        "colab": {}
      },
      "source": [
        ""
      ],
      "execution_count": 0,
      "outputs": []
    }
  ]
}